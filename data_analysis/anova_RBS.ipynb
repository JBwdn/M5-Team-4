{
 "cells": [
  {
   "cell_type": "code",
   "execution_count": 1,
   "metadata": {},
   "outputs": [],
   "source": [
    "# Imports:\n",
    "import pandas as pd\n",
    "import scipy.stats as stats\n",
    "import matplotlib.pyplot as plt"
   ]
  },
  {
   "cell_type": "code",
   "execution_count": 13,
   "metadata": {},
   "outputs": [],
   "source": [
    "# Load data:\n",
    "bfp = pd.read_csv('normalised_bfp.csv')\n",
    "gfp = pd.read_csv('normalised_gfp.csv')\n",
    "rfp = pd.read_csv('normalised_rfp.csv')\n",
    "EA_rbs_label = pd.read_csv('rbs_label.csv')"
   ]
  },
  {
   "cell_type": "code",
   "execution_count": 14,
   "metadata": {},
   "outputs": [],
   "source": [
    "# Isolate relevant runs:\n",
    "EA_runs = []\n",
    "for i in range(4,7):\n",
    "    rows = ['A0', 'B0', 'C0', 'D0', 'E0', 'F0', 'G0', 'H0']\n",
    "    for row in rows:\n",
    "        EA_runs.append(row + str(i))\n",
    "\n",
    "bfp_2 = bfp.set_index('WELL')\n",
    "bfp_EA = bfp_2.loc[EA_runs, :]\n",
    "\n",
    "gfp_2 = gfp.set_index('WELL')\n",
    "gfp_EA = gfp_2.loc[EA_runs, :]\n",
    "\n",
    "rfp_2 = rfp.set_index('WELL')\n",
    "rfp_EA = rfp_2.loc[EA_runs, :]"
   ]
  },
  {
   "cell_type": "code",
   "execution_count": 15,
   "metadata": {},
   "outputs": [],
   "source": [
    "# Calculate mean normalized RFU over time:\n",
    "bfp_EA['MEAN'] = bfp_EA.mean(axis=1)\n",
    "gfp_EA['MEAN'] = gfp_EA.mean(axis=1)\n",
    "rfp_EA['MEAN'] = rfp_EA.mean(axis=1)"
   ]
  },
  {
   "cell_type": "code",
   "execution_count": 16,
   "metadata": {},
   "outputs": [],
   "source": [
    "# Add rbs labels:\n",
    "bfp_EA['RBS'] = list(EA_rbs_label['BFP'])\n",
    "gfp_EA['RBS'] = list(EA_rbs_label['GFP'])\n",
    "rfp_EA['RBS'] = list(EA_rbs_label['RFP'])"
   ]
  },
  {
   "cell_type": "code",
   "execution_count": 22,
   "metadata": {},
   "outputs": [
    {
     "data": {
      "text/plain": [
       "F_onewayResult(statistic=14.125997129555591, pvalue=7.207669033269237e-06)"
      ]
     },
     "execution_count": 22,
     "metadata": {},
     "output_type": "execute_result"
    }
   ],
   "source": [
    "# ANOVA:\n",
    "stats.f_oneway(bfp_EA['MEAN'],\n",
    "               gfp_EA['MEAN'],\n",
    "               bfp_EA['MEAN'])"
   ]
  },
  {
   "cell_type": "code",
   "execution_count": null,
   "metadata": {},
   "outputs": [],
   "source": []
  }
 ],
 "metadata": {
  "kernelspec": {
   "display_name": "Python 3",
   "language": "python",
   "name": "python3"
  },
  "language_info": {
   "codemirror_mode": {
    "name": "ipython",
    "version": 3
   },
   "file_extension": ".py",
   "mimetype": "text/x-python",
   "name": "python",
   "nbconvert_exporter": "python",
   "pygments_lexer": "ipython3",
   "version": "3.7.1"
  }
 },
 "nbformat": 4,
 "nbformat_minor": 2
}
